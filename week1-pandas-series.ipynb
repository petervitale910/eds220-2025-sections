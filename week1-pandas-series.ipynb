{
 "cells": [
  {
   "cell_type": "markdown",
   "id": "b8d18aa9-641e-4991-b40c-32d65c36f2d6",
   "metadata": {},
   "source": [
    "# Pandas 1: series and data frames\n",
    "Learning objectives\n",
    "By the end of this lesson, students will be able to:\n",
    "\n",
    "- Explain the relation between *pandas.Series* and pandas. DataFrame\n",
    "- Construct simple pandas.Series and pandas. DataFrame from scratch using different initalization methods\n",
    "- Perform simple operations on *pandas.Series*\n",
    "- Navigate the pandas documentation to look for attributes and methods of *pandas.Series* and *pandas.DataFrame*"
   ]
  },
  {
   "cell_type": "code",
   "execution_count": 1,
   "id": "b5775fe8-5473-496a-b5bf-559fec61860a",
   "metadata": {
    "tags": []
   },
   "outputs": [],
   "source": [
    "# I know pandas but im pretty bad still. This part i know\n",
    "import pandas as pd\n",
    "import numpy as np"
   ]
  },
  {
   "cell_type": "markdown",
   "id": "ed7e972c-b2d0-47bb-a4b0-71b04e53d1ab",
   "metadata": {},
   "source": [
    "# Series"
   ]
  },
  {
   "cell_type": "markdown",
   "id": "63983841-6728-486f-b51f-2ec1913b31fd",
   "metadata": {},
   "source": [
    "- Series are core objects of pandas\n",
    "- Series = one dimensional array of indexed data \n",
    "- The index is the main difference between series and numpy.array"
   ]
  },
  {
   "cell_type": "code",
   "execution_count": 2,
   "id": "182a0a2e-156c-4952-bc25-71e9a04dabb8",
   "metadata": {
    "tags": []
   },
   "outputs": [
    {
     "name": "stdout",
     "output_type": "stream",
     "text": [
      "<class 'numpy.ndarray'>\n",
      "[ 1.66280062 -0.61660409 -0.57777464 -0.37439743] \n",
      "\n",
      "<class 'pandas.core.series.Series'>\n",
      "0    1.662801\n",
      "1   -0.616604\n",
      "2   -0.577775\n",
      "3   -0.374397\n",
      "dtype: float64\n"
     ]
    }
   ],
   "source": [
    "# Numpy array\n",
    "arr = np.random.randn(4) # random values from std normal distribution\n",
    "print(type(arr)) #array\n",
    "print(arr, \"\\n\") #\\n creates a break\n",
    "\n",
    "#A pandas series made from the previous array\n",
    "\n",
    "s= pd.Series(arr)\n",
    "print(type(s))\n",
    "print(s)\n",
    "\n",
    "#Theres the index"
   ]
  },
  {
   "cell_type": "markdown",
   "id": "22999009-7877-4d62-8af6-8a6e4a45d625",
   "metadata": {},
   "source": [
    "## Creating a {pandas.Series}\n",
    "\n",
    "Basic call: s = pd.Series(data, index=index)\n",
    "Data:\n",
    "- list of NumPy array\n",
    "- python dictionary\n",
    "- number, boolean, or string\n",
    "Index:\n",
    "- optional \n",
    "- list of indices "
   ]
  },
  {
   "cell_type": "code",
   "execution_count": 3,
   "id": "d5fe968d-9def-4335-8c9c-da9f1caf4e15",
   "metadata": {
    "tags": []
   },
   "outputs": [
    {
     "data": {
      "text/plain": [
       "2023    0\n",
       "2024    1\n",
       "2025    2\n",
       "dtype: int64"
      ]
     },
     "execution_count": 3,
     "metadata": {},
     "output_type": "execute_result"
    }
   ],
   "source": [
    "# Ex. creating a Series from a Numpy array\n",
    "\n",
    "pd.Series(np.arange(3), index=[2023, 2024, 2025])"
   ]
  },
  {
   "cell_type": "code",
   "execution_count": 4,
   "id": "5ba9b2d9-1af3-44de-99dd-75cf9e2c4d39",
   "metadata": {
    "tags": []
   },
   "outputs": [
    {
     "data": {
      "text/plain": [
       "0    EDS 220\n",
       "1    EDS 222\n",
       "2    EDS 223\n",
       "3    EDS 242\n",
       "dtype: object"
      ]
     },
     "execution_count": 4,
     "metadata": {},
     "output_type": "execute_result"
    }
   ],
   "source": [
    "# Ex. creating a Series from a list\n",
    "pd.Series(['EDS 220', 'EDS 222', 'EDS 223', 'EDS 242']) \n",
    "# No index specified -> defaults to 0-(N-1)"
   ]
  },
  {
   "cell_type": "code",
   "execution_count": 5,
   "id": "93776338-0a86-4998-b67c-08812d7a4041",
   "metadata": {
    "tags": []
   },
   "outputs": [
    {
     "data": {
      "text/plain": [
       "key_0    2\n",
       "key_1    3\n",
       "key_2    5\n",
       "dtype: object"
      ]
     },
     "execution_count": 5,
     "metadata": {},
     "output_type": "execute_result"
    }
   ],
   "source": [
    "# Ex. creating a Series from a dictionary\n",
    "# Wee need to set keys as well but they just become index\n",
    "#Make dictionary \n",
    "d= {'key_0':2, 'key_1':'3', 'key_2':5}# the type becomes object due to being strings\n",
    "#& ints\n",
    "\n",
    "#Initialize series using a dictionary \n",
    "pd.Series(d)"
   ]
  },
  {
   "cell_type": "code",
   "execution_count": 6,
   "id": "cc495d9c-162a-4a0b-ad45-c3df3f3c1ed7",
   "metadata": {
    "tags": []
   },
   "outputs": [
    {
     "data": {
      "text/plain": [
       "A    3.0\n",
       "B    3.0\n",
       "C    3.0\n",
       "dtype: float64"
      ]
     },
     "execution_count": 6,
     "metadata": {},
     "output_type": "execute_result"
    }
   ],
   "source": [
    "# Ex creating pandas series from a single value\n",
    "pd.Series(3.0, index = ['A', 'B', 'C'])"
   ]
  },
  {
   "cell_type": "markdown",
   "id": "057aeea0-dba9-4e44-8e54-1cbe36584d5c",
   "metadata": {},
   "source": [
    "# Simple operations \n",
    "Arithmetic operations work on series ad so most NumPy functions"
   ]
  },
  {
   "cell_type": "code",
   "execution_count": 7,
   "id": "5361e150-757e-49b0-8d8a-02e616e068e9",
   "metadata": {
    "tags": []
   },
   "outputs": [
    {
     "name": "stdout",
     "output_type": "stream",
     "text": [
      "Andrea      9.8\n",
      "Beth        7.3\n",
      "Carolina    6.5\n",
      "dtype: float64 \n",
      "\n",
      "Andrea      3.637971e+42\n",
      "Beth        5.052394e+31\n",
      "Carolina    1.694889e+28\n",
      "dtype: float64 \n",
      "\n",
      "Andrea      98\n",
      "Beth        73\n",
      "Carolina    65\n",
      "dtype: int64\n"
     ]
    }
   ],
   "source": [
    "# Define a series\n",
    "s = pd.Series([98,73,65], index=['Andrea', 'Beth', 'Carolina'])\n",
    "\n",
    "# Divide each element by 10 \n",
    "print(s /10, '\\n')\n",
    "\n",
    "# Take exponential of each element\n",
    "print(np.exp(s),'\\n')\n",
    "\n",
    "# Original series is unchanged\n",
    "print(s)"
   ]
  },
  {
   "cell_type": "code",
   "execution_count": 8,
   "id": "645cf3f3-ba19-47de-8ee0-3eea0e9c10c6",
   "metadata": {
    "tags": []
   },
   "outputs": [
    {
     "data": {
      "text/plain": [
       "Andrea       True\n",
       "Beth         True\n",
       "Carolina    False\n",
       "dtype: bool"
      ]
     },
     "execution_count": 8,
     "metadata": {},
     "output_type": "execute_result"
    }
   ],
   "source": [
    "# Can also check conditions\n",
    "s > 70"
   ]
  },
  {
   "cell_type": "markdown",
   "id": "d0c3c893-82ff-4738-b4a2-89a72663f6b5",
   "metadata": {},
   "source": [
    "# Identifying Missing values\n",
    "- Null, NA, missing -> flloat = 'not a number'"
   ]
  },
  {
   "cell_type": "code",
   "execution_count": 9,
   "id": "cefc3ec7-a289-4470-bad1-d6ae4feb30a0",
   "metadata": {
    "tags": []
   },
   "outputs": [
    {
     "data": {
      "text/plain": [
       "0    1.0\n",
       "1    2.0\n",
       "2    NaN\n",
       "3    4.0\n",
       "4    NaN\n",
       "dtype: float64"
      ]
     },
     "execution_count": 9,
     "metadata": {},
     "output_type": "execute_result"
    }
   ],
   "source": [
    "#Create series with nas\n",
    "s = pd.Series([1, 2, np.nan, 4, np.nan])\n",
    "s\n",
    "#The type is still float"
   ]
  },
  {
   "cell_type": "code",
   "execution_count": 10,
   "id": "54bd8fda-4ea6-4691-86b5-1553fe8b6038",
   "metadata": {
    "tags": []
   },
   "outputs": [
    {
     "data": {
      "text/plain": [
       "True"
      ]
     },
     "execution_count": 10,
     "metadata": {},
     "output_type": "execute_result"
    }
   ],
   "source": [
    "# and hasnans is turue\n",
    "s.hasnans\n"
   ]
  },
  {
   "cell_type": "code",
   "execution_count": 11,
   "id": "299b4445-c57c-43a9-a679-dab1e26dbbbb",
   "metadata": {
    "tags": []
   },
   "outputs": [
    {
     "data": {
      "text/plain": [
       "0    False\n",
       "1    False\n",
       "2     True\n",
       "3    False\n",
       "4     True\n",
       "dtype: bool"
      ]
     },
     "execution_count": 11,
     "metadata": {},
     "output_type": "execute_result"
    }
   ],
   "source": [
    "#Lets see which are NA \n",
    "s.isna()"
   ]
  },
  {
   "cell_type": "code",
   "execution_count": 17,
   "id": "88b252fe-31eb-421c-8b4f-59bc37fcb774",
   "metadata": {
    "tags": []
   },
   "outputs": [
    {
     "name": "stdout",
     "output_type": "stream",
     "text": [
      "a      2\n",
      "b   -999\n",
      "c      4\n",
      "d   -999\n",
      "dtype: int64 \n",
      "\n",
      "a    2.0\n",
      "b    NaN\n",
      "c    4.0\n",
      "d    NaN\n",
      "dtype: float64\n"
     ]
    }
   ],
   "source": [
    "# Check in 1 \n",
    "\n",
    "#Create a series with -999 as na\n",
    "s = pd.Series([ 2, -999, 4, -999], index = ['a','b', 'c','d'])\n",
    "\n",
    "\n",
    "print(s, '\\n')\n",
    "#Now we use can use mask to change the value where the condition is true\n",
    "\n",
    "s = s.mask(s==(-999), other= np.nan) #Mask expects a condition in this case s == -999\n",
    "# other = turns them into what I specify in this case np.nan\n",
    "print(s)"
   ]
  },
  {
   "cell_type": "markdown",
   "id": "75f6c73c-e3ab-49d3-82db-6bdff9eb2f34",
   "metadata": {},
   "source": [
    "# Data Frames \n",
    "- Dictionary of pandas.Series |"
   ]
  },
  {
   "cell_type": "code",
   "execution_count": 13,
   "id": "b6d4b8c6-8d2d-4f02-ba2b-8d44a755aaa7",
   "metadata": {
    "tags": []
   },
   "outputs": [
    {
     "data": {
      "text/html": [
       "<div>\n",
       "<style scoped>\n",
       "    .dataframe tbody tr th:only-of-type {\n",
       "        vertical-align: middle;\n",
       "    }\n",
       "\n",
       "    .dataframe tbody tr th {\n",
       "        vertical-align: top;\n",
       "    }\n",
       "\n",
       "    .dataframe thead th {\n",
       "        text-align: right;\n",
       "    }\n",
       "</style>\n",
       "<table border=\"1\" class=\"dataframe\">\n",
       "  <thead>\n",
       "    <tr style=\"text-align: right;\">\n",
       "      <th></th>\n",
       "      <th>col_name_1</th>\n",
       "      <th>col_name_2</th>\n",
       "    </tr>\n",
       "  </thead>\n",
       "  <tbody>\n",
       "    <tr>\n",
       "      <th>0</th>\n",
       "      <td>0</td>\n",
       "      <td>3.1</td>\n",
       "    </tr>\n",
       "    <tr>\n",
       "      <th>1</th>\n",
       "      <td>1</td>\n",
       "      <td>3.2</td>\n",
       "    </tr>\n",
       "    <tr>\n",
       "      <th>2</th>\n",
       "      <td>2</td>\n",
       "      <td>3.3</td>\n",
       "    </tr>\n",
       "  </tbody>\n",
       "</table>\n",
       "</div>"
      ],
      "text/plain": [
       "   col_name_1  col_name_2\n",
       "0           0         3.1\n",
       "1           1         3.2\n",
       "2           2         3.3"
      ]
     },
     "execution_count": 13,
     "metadata": {},
     "output_type": "execute_result"
    }
   ],
   "source": [
    "# Initialize dictionary with columns' data\n",
    "d = {'col_name_1' : pd.Series(np.arange(3)),\n",
    "    'col_name_2' : pd.Series([3.1, 3.2, 3.3\n",
    "                             ])}\n",
    "\n",
    "#Create df\n",
    "df = pd.DataFrame(d)\n",
    "df"
   ]
  },
  {
   "cell_type": "code",
   "execution_count": 14,
   "id": "860b5f53-68fc-44a6-85ba-b2ac48820142",
   "metadata": {
    "tags": []
   },
   "outputs": [
    {
     "data": {
      "text/html": [
       "<div>\n",
       "<style scoped>\n",
       "    .dataframe tbody tr th:only-of-type {\n",
       "        vertical-align: middle;\n",
       "    }\n",
       "\n",
       "    .dataframe tbody tr th {\n",
       "        vertical-align: top;\n",
       "    }\n",
       "\n",
       "    .dataframe thead th {\n",
       "        text-align: right;\n",
       "    }\n",
       "</style>\n",
       "<table border=\"1\" class=\"dataframe\">\n",
       "  <thead>\n",
       "    <tr style=\"text-align: right;\">\n",
       "      <th></th>\n",
       "      <th>col_name_1</th>\n",
       "      <th>col_name_2</th>\n",
       "    </tr>\n",
       "  </thead>\n",
       "  <tbody>\n",
       "    <tr>\n",
       "      <th>a</th>\n",
       "      <td>0</td>\n",
       "      <td>3.1</td>\n",
       "    </tr>\n",
       "    <tr>\n",
       "      <th>b</th>\n",
       "      <td>1</td>\n",
       "      <td>3.2</td>\n",
       "    </tr>\n",
       "    <tr>\n",
       "      <th>c</th>\n",
       "      <td>2</td>\n",
       "      <td>3.3</td>\n",
       "    </tr>\n",
       "  </tbody>\n",
       "</table>\n",
       "</div>"
      ],
      "text/plain": [
       "   col_name_1  col_name_2\n",
       "a           0         3.1\n",
       "b           1         3.2\n",
       "c           2         3.3"
      ]
     },
     "execution_count": 14,
     "metadata": {},
     "output_type": "execute_result"
    }
   ],
   "source": [
    "# Change index\n",
    "df.index = ['a','b','c']\n",
    "df"
   ]
  },
  {
   "cell_type": "code",
   "execution_count": 18,
   "id": "0f6a0092-b064-4702-8780-121edbb7cada",
   "metadata": {
    "tags": []
   },
   "outputs": [
    {
     "data": {
      "text/html": [
       "<div>\n",
       "<style scoped>\n",
       "    .dataframe tbody tr th:only-of-type {\n",
       "        vertical-align: middle;\n",
       "    }\n",
       "\n",
       "    .dataframe tbody tr th {\n",
       "        vertical-align: top;\n",
       "    }\n",
       "\n",
       "    .dataframe thead th {\n",
       "        text-align: right;\n",
       "    }\n",
       "</style>\n",
       "<table border=\"1\" class=\"dataframe\">\n",
       "  <thead>\n",
       "    <tr style=\"text-align: right;\">\n",
       "      <th></th>\n",
       "      <th>C1</th>\n",
       "      <th>C2</th>\n",
       "    </tr>\n",
       "  </thead>\n",
       "  <tbody>\n",
       "    <tr>\n",
       "      <th>a</th>\n",
       "      <td>0</td>\n",
       "      <td>3.1</td>\n",
       "    </tr>\n",
       "    <tr>\n",
       "      <th>b</th>\n",
       "      <td>1</td>\n",
       "      <td>3.2</td>\n",
       "    </tr>\n",
       "    <tr>\n",
       "      <th>c</th>\n",
       "      <td>2</td>\n",
       "      <td>3.3</td>\n",
       "    </tr>\n",
       "  </tbody>\n",
       "</table>\n",
       "</div>"
      ],
      "text/plain": [
       "   C1   C2\n",
       "a   0  3.1\n",
       "b   1  3.2\n",
       "c   2  3.3"
      ]
     },
     "execution_count": 18,
     "metadata": {},
     "output_type": "execute_result"
    }
   ],
   "source": [
    "# Check in 2\n",
    "\n",
    "df.columns=(['C1','C2'])# This is colnames in R without having to repeat !\n",
    "df"
   ]
  },
  {
   "cell_type": "code",
   "execution_count": null,
   "id": "5c361cf2-640f-4f53-9a43-405010e82f0b",
   "metadata": {},
   "outputs": [],
   "source": []
  }
 ],
 "metadata": {
  "kernelspec": {
   "display_name": "EDS220",
   "language": "python",
   "name": "eds220-env"
  },
  "language_info": {
   "codemirror_mode": {
    "name": "ipython",
    "version": 3
   },
   "file_extension": ".py",
   "mimetype": "text/x-python",
   "name": "python",
   "nbconvert_exporter": "python",
   "pygments_lexer": "ipython3",
   "version": "3.11.4"
  }
 },
 "nbformat": 4,
 "nbformat_minor": 5
}
