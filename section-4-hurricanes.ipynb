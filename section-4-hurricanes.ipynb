{
 "cells": [
  {
   "cell_type": "markdown",
   "id": "803f86e1-80d8-44f9-ad7d-ab7402330e45",
   "metadata": {},
   "source": [
    "### Peter Vitale \n",
    "10/23/2025\n",
    "\n",
    "<h1 style=\"text-align: center;\">Lab 4: Yucatan Peninsula Hurricanes</h1>"
   ]
  },
  {
   "cell_type": "markdown",
   "id": "07cc82f3-2925-451a-9feb-94f5ddd1d5b5",
   "metadata": {},
   "source": [
    "### Section 1: Data preview\n",
    "\n",
    "- Used computers to study impacts of hurricanes in the Yucatan Peninsula from 1851-2000\n",
    "- Investigated using a simple meteorological model\n",
    "- Individual reconstructions were then compiled to study cumulative impacts of all 105 storms"
   ]
  },
  {
   "cell_type": "markdown",
   "id": "2658ab5e-99f9-43e7-bc5e-55708d317ddb",
   "metadata": {},
   "source": [
    "# Section 2: Loading in Data\n",
    "Read in `hf071-01-hurricanes.csv`"
   ]
  },
  {
   "cell_type": "code",
   "execution_count": 1,
   "id": "30123533-e8f3-48ea-903b-93401e515713",
   "metadata": {
    "tags": []
   },
   "outputs": [],
   "source": [
    "import pandas as pd\n",
    "\n",
    "hurricanes = pd.read_csv('Data/hf071-01-hurricanes.csv')"
   ]
  }
 ],
 "metadata": {
  "kernelspec": {
   "display_name": "EDS220",
   "language": "python",
   "name": "eds220-env"
  },
  "language_info": {
   "codemirror_mode": {
    "name": "ipython",
    "version": 3
   },
   "file_extension": ".py",
   "mimetype": "text/x-python",
   "name": "python",
   "nbconvert_exporter": "python",
   "pygments_lexer": "ipython3",
   "version": "3.11.4"
  }
 },
 "nbformat": 4,
 "nbformat_minor": 5
}
