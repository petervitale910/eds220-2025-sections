{
 "cells": [
  {
   "cell_type": "markdown",
   "id": "803f86e1-80d8-44f9-ad7d-ab7402330e45",
   "metadata": {},
   "source": [
    "### Peter Vitale \n",
    "10/23/2025\n",
    "\n",
    "<h1 style=\"text-align: center;\">Lab 4: Yucatan Peninsula Hurricanes</h1>"
   ]
  },
  {
   "cell_type": "markdown",
   "id": "07cc82f3-2925-451a-9feb-94f5ddd1d5b5",
   "metadata": {},
   "source": [
    "### Section 1: Data preview\n",
    "\n",
    "- Used computers to study impacts of hurricanes in the Yucatan Peninsula from 1851-2000\n",
    "- Investigated using a simple meteorological model\n",
    "- Individual reconstructions were then compiled to study cumulative impacts of all 105 storms"
   ]
  },
  {
   "cell_type": "markdown",
   "id": "2658ab5e-99f9-43e7-bc5e-55708d317ddb",
   "metadata": {},
   "source": [
    "### Section 2: Loading in Data\n",
    "Read in `hf071-01-hurricanes.csv`"
   ]
  },
  {
   "cell_type": "code",
   "execution_count": 3,
   "id": "30123533-e8f3-48ea-903b-93401e515713",
   "metadata": {
    "tags": []
   },
   "outputs": [],
   "source": [
    "import pandas as pd\n",
    "\n",
    "df = pd.read_csv('Data/hf071-01-hurricanes.csv')"
   ]
  },
  {
   "cell_type": "markdown",
   "id": "e7d37d87-c9cd-49c9-bbe0-cb7dce550136",
   "metadata": {},
   "source": [
    "### Section 3: Brainstorm\n",
    "- n() of category 5 \n",
    "- duration of each \n"
   ]
  },
  {
   "cell_type": "markdown",
   "id": "7752c424-f925-42a6-8226-a9d3fae34e35",
   "metadata": {},
   "source": [
    "### Section 4: Data Wrangling "
   ]
  },
  {
   "cell_type": "code",
   "execution_count": 19,
   "id": "5028a530-49ba-4a11-8384-6535b4731865",
   "metadata": {
    "tags": []
   },
   "outputs": [],
   "source": [
    "cat5 = df.loc[df.ss==5]"
   ]
  },
  {
   "cell_type": "code",
   "execution_count": 20,
   "id": "0aeb8401-a4dd-4cbd-80a0-0527c628dedd",
   "metadata": {
    "tags": []
   },
   "outputs": [
    {
     "name": "stderr",
     "output_type": "stream",
     "text": [
      "/tmp/ipykernel_3276089/2462146418.py:1: SettingWithCopyWarning: \n",
      "A value is trying to be set on a copy of a slice from a DataFrame.\n",
      "Try using .loc[row_indexer,col_indexer] = value instead\n",
      "\n",
      "See the caveats in the documentation: https://pandas.pydata.org/pandas-docs/stable/user_guide/indexing.html#returning-a-view-versus-a-copy\n",
      "  cat5['start.date'] = pd.to_datetime(cat5['start.date'])\n",
      "/tmp/ipykernel_3276089/2462146418.py:2: SettingWithCopyWarning: \n",
      "A value is trying to be set on a copy of a slice from a DataFrame.\n",
      "Try using .loc[row_indexer,col_indexer] = value instead\n",
      "\n",
      "See the caveats in the documentation: https://pandas.pydata.org/pandas-docs/stable/user_guide/indexing.html#returning-a-view-versus-a-copy\n",
      "  cat5['end.date'] = pd.to_datetime(cat5['end.date'])\n",
      "/tmp/ipykernel_3276089/2462146418.py:3: SettingWithCopyWarning: \n",
      "A value is trying to be set on a copy of a slice from a DataFrame.\n",
      "Try using .loc[row_indexer,col_indexer] = value instead\n",
      "\n",
      "See the caveats in the documentation: https://pandas.pydata.org/pandas-docs/stable/user_guide/indexing.html#returning-a-view-versus-a-copy\n",
      "  cat5['duration'] = cat5['end.date'] - cat5['start.date']\n"
     ]
    },
    {
     "data": {
      "text/html": [
       "<div>\n",
       "<style scoped>\n",
       "    .dataframe tbody tr th:only-of-type {\n",
       "        vertical-align: middle;\n",
       "    }\n",
       "\n",
       "    .dataframe tbody tr th {\n",
       "        vertical-align: top;\n",
       "    }\n",
       "\n",
       "    .dataframe thead th {\n",
       "        text-align: right;\n",
       "    }\n",
       "</style>\n",
       "<table border=\"1\" class=\"dataframe\">\n",
       "  <thead>\n",
       "    <tr style=\"text-align: right;\">\n",
       "      <th></th>\n",
       "      <th>code</th>\n",
       "      <th>start.date</th>\n",
       "      <th>end.date</th>\n",
       "      <th>number</th>\n",
       "      <th>name</th>\n",
       "      <th>ss</th>\n",
       "      <th>track</th>\n",
       "      <th>rf.max</th>\n",
       "      <th>duration</th>\n",
       "    </tr>\n",
       "  </thead>\n",
       "  <tbody>\n",
       "    <tr>\n",
       "      <th>76</th>\n",
       "      <td>Y1955b</td>\n",
       "      <td>1955-09-28</td>\n",
       "      <td>1955-09-28</td>\n",
       "      <td>10</td>\n",
       "      <td>Janet</td>\n",
       "      <td>5</td>\n",
       "      <td>N</td>\n",
       "      <td>F3</td>\n",
       "      <td>0 days</td>\n",
       "    </tr>\n",
       "    <tr>\n",
       "      <th>96</th>\n",
       "      <td>Y1980a</td>\n",
       "      <td>1980-08-07</td>\n",
       "      <td>1980-08-08</td>\n",
       "      <td>1</td>\n",
       "      <td>Allen</td>\n",
       "      <td>5</td>\n",
       "      <td>O</td>\n",
       "      <td>F3</td>\n",
       "      <td>1 days</td>\n",
       "    </tr>\n",
       "    <tr>\n",
       "      <th>98</th>\n",
       "      <td>Y1988</td>\n",
       "      <td>1988-09-14</td>\n",
       "      <td>1988-09-15</td>\n",
       "      <td>8</td>\n",
       "      <td>Gilbert</td>\n",
       "      <td>5</td>\n",
       "      <td>N</td>\n",
       "      <td>F3</td>\n",
       "      <td>1 days</td>\n",
       "    </tr>\n",
       "    <tr>\n",
       "      <th>103</th>\n",
       "      <td>Y1998</td>\n",
       "      <td>1998-10-27</td>\n",
       "      <td>1998-10-28</td>\n",
       "      <td>13</td>\n",
       "      <td>Mitch</td>\n",
       "      <td>5</td>\n",
       "      <td>S</td>\n",
       "      <td>F1</td>\n",
       "      <td>1 days</td>\n",
       "    </tr>\n",
       "  </tbody>\n",
       "</table>\n",
       "</div>"
      ],
      "text/plain": [
       "       code start.date   end.date  number     name  ss track rf.max duration\n",
       "76   Y1955b 1955-09-28 1955-09-28      10    Janet   5     N     F3   0 days\n",
       "96   Y1980a 1980-08-07 1980-08-08       1    Allen   5     O     F3   1 days\n",
       "98    Y1988 1988-09-14 1988-09-15       8  Gilbert   5     N     F3   1 days\n",
       "103   Y1998 1998-10-27 1998-10-28      13    Mitch   5     S     F1   1 days"
      ]
     },
     "execution_count": 20,
     "metadata": {},
     "output_type": "execute_result"
    }
   ],
   "source": [
    "cat5['start.date'] = pd.to_datetime(cat5['start.date'])\n",
    "cat5['end.date'] = pd.to_datetime(cat5['end.date'])\n",
    "cat5['duration'] = cat5['end.date'] - cat5['start.date']\n",
    "cat5.head()\n"
   ]
  },
  {
   "cell_type": "markdown",
   "id": "0729c0e0-19c7-4429-a99b-e5e9c483635c",
   "metadata": {},
   "source": [
    "# Section 5: Visualize\n"
   ]
  },
  {
   "cell_type": "code",
   "execution_count": 37,
   "id": "cf3fb0fe-1189-472f-8c50-249dbc911e0f",
   "metadata": {
    "tags": []
   },
   "outputs": [],
   "source": [
    "import matplotlib.pyplot as plt\n",
    "\n",
    "df['start_date'] = pd.to_datetime(df['start.date'])"
   ]
  },
  {
   "cell_type": "code",
   "execution_count": 50,
   "id": "988a4329-f9e9-46d8-a813-6a25af26f278",
   "metadata": {
    "tags": []
   },
   "outputs": [
    {
     "data": {
      "text/plain": [
       "Text(0, 0.5, 'SS Scale')"
      ]
     },
     "execution_count": 50,
     "metadata": {},
     "output_type": "execute_result"
    },
    {
     "data": {
      "image/png": "[encoded data removed]",
      "text/plain": [
       "<Figure size 640x480 with 1 Axes>"
      ]
     },
     "metadata": {},
     "output_type": "display_data"
    }
   ],
   "source": [
    "fig, ax = plt.subplots()\n",
    "ax.scatter(df['start.date'], df['ss'],\n",
    "          color = '#ABD444')\n",
    "ax.set_yticks([1,2,3,4,5])\n",
    "ax.set_xlabel('Date')\n",
    "ax.set_ylabel('SS Scale')"
   ]
  },
  {
   "cell_type": "code",
   "execution_count": null,
   "id": "04c49379-e65c-45f2-90a5-96c720eea7fe",
   "metadata": {},
   "outputs": [],
   "source": []
  }
 ],
 "metadata": {
  "kernelspec": {
   "display_name": "EDS220",
   "language": "python",
   "name": "eds220-env"
  },
  "language_info": {
   "codemirror_mode": {
    "name": "ipython",
    "version": 3
   },
   "file_extension": ".py",
   "mimetype": "text/x-python",
   "name": "python",
   "nbconvert_exporter": "python",
   "pygments_lexer": "ipython3",
   "version": "3.11.4"
  }
 },
 "nbformat": 4,
 "nbformat_minor": 5
}
