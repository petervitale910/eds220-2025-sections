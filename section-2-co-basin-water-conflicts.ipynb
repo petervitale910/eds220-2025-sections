{
 "cells": [
  {
   "cell_type": "markdown",
   "id": "773a04f2-03a4-4cb2-a427-35e59a5385f9",
   "metadata": {},
   "source": [
    "# Discussion Section 2: Colorado River Basin"
   ]
  },
  {
   "cell_type": "markdown",
   "id": "c47ed980-c101-4ab1-9202-c1baebd5d4b1",
   "metadata": {},
   "source": [
    "## 2. Data Loading\n"
   ]
  },
  {
   "cell_type": "code",
   "execution_count": 3,
   "id": "c0f2f6a4-3c05-44fd-ae59-af536af4c5ef",
   "metadata": {
    "tags": []
   },
   "outputs": [],
   "source": [
    "import pandas as pd"
   ]
  },
  {
   "cell_type": "code",
   "execution_count": 4,
   "id": "d77d3940-3129-4265-9371-5640f3e169bf",
   "metadata": {
    "tags": []
   },
   "outputs": [],
   "source": [
    "df = pd.read_csv('Data/data.csv')"
   ]
  },
  {
   "cell_type": "markdown",
   "id": "8a907582-aca3-4633-bda0-bd538d37339f",
   "metadata": {},
   "source": [
    "## 3. Preliminary data ex"
   ]
  },
  {
   "cell_type": "markdown",
   "id": "196f3f4b-6a88-4e63-9b75-f62b8f49b06f",
   "metadata": {},
   "source": [
    "## 5. String accessor for pandas.Series"
   ]
  },
  {
   "cell_type": "code",
   "execution_count": 5,
   "id": "57ccd874-83d3-4d17-83e1-a00314b168aa",
   "metadata": {
    "tags": []
   },
   "outputs": [
    {
     "data": {
      "text/plain": [
       "0    California; Nevada\n",
       "1               Arizona\n",
       "2                   NaN\n",
       "3          Nevada; Utah\n",
       "dtype: object"
      ]
     },
     "execution_count": 5,
     "metadata": {},
     "output_type": "execute_result"
    }
   ],
   "source": [
    "import numpy as np\n",
    "import pandas as pd \n",
    "\n",
    "# Example series\n",
    "s = pd.Series(['California; Nevada', 'Arizona', np.nan, 'Nevada; Utah'])\n",
    "s"
   ]
  },
  {
   "cell_type": "code",
   "execution_count": 7,
   "id": "ce1be542-dc29-4393-a725-5812d5223e10",
   "metadata": {
    "tags": []
   },
   "outputs": [
    {
     "data": {
      "text/plain": [
       "<pandas.core.strings.accessor.StringMethods at 0x7f32599f1e90>"
      ]
     },
     "execution_count": 7,
     "metadata": {},
     "output_type": "execute_result"
    }
   ],
   "source": [
    "#str accessor (doesnt do anything by itself)\n",
    "s.str"
   ]
  },
  {
   "cell_type": "code",
   "execution_count": 11,
   "id": "d8d3c851-1625-40d9-972c-13c628ccc26d",
   "metadata": {
    "tags": []
   },
   "outputs": [
    {
     "data": {
      "text/html": [
       "<div>\n",
       "<style scoped>\n",
       "    .dataframe tbody tr th:only-of-type {\n",
       "        vertical-align: middle;\n",
       "    }\n",
       "\n",
       "    .dataframe tbody tr th {\n",
       "        vertical-align: top;\n",
       "    }\n",
       "\n",
       "    .dataframe thead th {\n",
       "        text-align: right;\n",
       "    }\n",
       "</style>\n",
       "<table border=\"1\" class=\"dataframe\">\n",
       "  <thead>\n",
       "    <tr style=\"text-align: right;\">\n",
       "      <th></th>\n",
       "      <th>0</th>\n",
       "      <th>1</th>\n",
       "    </tr>\n",
       "  </thead>\n",
       "  <tbody>\n",
       "    <tr>\n",
       "      <th>0</th>\n",
       "      <td>California</td>\n",
       "      <td>Nevada</td>\n",
       "    </tr>\n",
       "    <tr>\n",
       "      <th>1</th>\n",
       "      <td>Arizona</td>\n",
       "      <td>None</td>\n",
       "    </tr>\n",
       "    <tr>\n",
       "      <th>2</th>\n",
       "      <td>NaN</td>\n",
       "      <td>NaN</td>\n",
       "    </tr>\n",
       "    <tr>\n",
       "      <th>3</th>\n",
       "      <td>Nevada</td>\n",
       "      <td>Utah</td>\n",
       "    </tr>\n",
       "  </tbody>\n",
       "</table>\n",
       "</div>"
      ],
      "text/plain": [
       "            0        1\n",
       "0  California   Nevada\n",
       "1     Arizona     None\n",
       "2         NaN      NaN\n",
       "3      Nevada     Utah"
      ]
     },
     "execution_count": 11,
     "metadata": {},
     "output_type": "execute_result"
    }
   ],
   "source": [
    "#add aditional methods \n",
    "s.str.split(';', expand = True)  #splits on condition and expands df"
   ]
  },
  {
   "cell_type": "code",
   "execution_count": 10,
   "id": "0cb4b439-c78b-4eae-b150-cf3240bb2df2",
   "metadata": {
    "tags": []
   },
   "outputs": [
    {
     "data": {
      "text/plain": [
       "0  0    California\n",
       "   1        Nevada\n",
       "1  0       Arizona\n",
       "3  0        Nevada\n",
       "   1          Utah\n",
       "dtype: object"
      ]
     },
     "execution_count": 10,
     "metadata": {},
     "output_type": "execute_result"
    }
   ],
   "source": [
    "# Use stack() to flatten data \n",
    "s.str.split(';',expand = True).stack() #outputted by row and column"
   ]
  },
  {
   "cell_type": "markdown",
   "id": "13cd48c2-cfd2-4036-a5a4-ed19fad78ce7",
   "metadata": {},
   "source": [
    "## 6 & 7 & 9. Examining state codes "
   ]
  },
  {
   "cell_type": "code",
   "execution_count": 62,
   "id": "5d5a13e3-8ffe-4aa7-9453-1a949919c228",
   "metadata": {},
   "outputs": [
    {
     "data": {
      "text/plain": [
       "array(['CO', 'AZ', 'OH', 'UT', 'CA', 'NV', 'WY', 'NM'], dtype=object)"
      ]
     },
     "execution_count": 62,
     "metadata": {},
     "output_type": "execute_result"
    }
   ],
   "source": [
    "(df[df['Conflict Present'] == 'Y']['State']\n",
    ".str #go into string\n",
    ".split(';', expand = True) #Split vals at ;\n",
    ".stack() #stack them into a series\n",
    ".str.strip() #Gets rid of whitespace\n",
    ".unique()) #outputs unique values"
   ]
  },
  {
   "cell_type": "markdown",
   "id": "665124c7-cae2-4864-95aa-3c2c36a97f6f",
   "metadata": {
    "tags": []
   },
   "source": [
    "Due to inconsistent data sites it becomes an issue to not have repitition. Some conflicts include multiple states and spaces. "
   ]
  },
  {
   "cell_type": "code",
   "execution_count": null,
   "id": "04ea04d7-be7f-4392-8ffb-8e82be939926",
   "metadata": {},
   "outputs": [],
   "source": [
    "# Bonus:\n",
    "(df[df['Conflict Present'] == 'Y']['State']\n",
    ".str #go into string\n",
    ".split(';', expand = True) #Split vals at ;\n",
    ".stack() #stack them into a series\n",
    ".str.strip()  "
   ]
  }
 ],
 "metadata": {
  "kernelspec": {
   "display_name": "EDS220",
   "language": "python",
   "name": "eds220-env"
  },
  "language_info": {
   "codemirror_mode": {
    "name": "ipython",
    "version": 3
   },
   "file_extension": ".py",
   "mimetype": "text/x-python",
   "name": "python",
   "nbconvert_exporter": "python",
   "pygments_lexer": "ipython3",
   "version": "3.11.4"
  }
 },
 "nbformat": 4,
 "nbformat_minor": 5
}
