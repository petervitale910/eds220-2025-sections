{
 "cells": [
  {
   "cell_type": "markdown",
   "id": "f4caa762-74f9-48af-92bd-5b5d82e93ddc",
   "metadata": {},
   "source": [
    "## Section 3: Snowshoe hares at Bonanza Creek Experimental Forest"
   ]
  },
  {
   "cell_type": "markdown",
   "id": "83af4cce-7128-42ce-84f1-d3bb512f6c85",
   "metadata": {},
   "source": [
    "### About the data.\n",
    "These data were taken between 1999-2012 and look at Snowshoe hares at Bonanza Creek. There seem to be a lot of na's in the time variable as well as right and left ear tags. Most of the data is stored as strings, including Date. The researchers noted a decline in numbers after. \n",
    "\n",
    "#### Reference\n",
    "Kielland, K., F.S. Chapin, R.W. Ruess, and Bonanza Creek LTER. 2017. Snowshoe hare physical data in Bonanza Creek Experimental Forest: 1999-Present ver 22. Environmental Data Initiative. https://doi.org/10.6073/pasta/03dce4856d79b91557d8e6ce2cbcdc14 (Accessed 2025-10-17)."
   ]
  },
  {
   "cell_type": "markdown",
   "id": "8f08bdb1-8e23-4d93-80b6-4b8c8ccf8290",
   "metadata": {},
   "source": [
    "## 2."
   ]
  },
  {
   "cell_type": "markdown",
   "id": "be08c2e3-6fcf-4b57-a004-19761d88916f",
   "metadata": {},
   "source": [
    "\n",
    "![Alan Schmierer](https://upload.wikimedia.org/wikipedia/commons/thumb/8/8a/SNOWSHOE_HARE_%28Lepus_americanus%29_%285-28-2015%29_quoddy_head%2C_washington_co%2C_maine_-01_%2818988734889%29.jpg/1452px-SNOWSHOE_HARE_%28Lepus_americanus%29_%285-28-2015%29_quoddy_head%2C_washington_co%2C_maine_-01_%2818988734889%29.jpg?20170313021652)\n"
   ]
  },
  {
   "cell_type": "code",
   "execution_count": null,
   "id": "85f77ec8-11e6-4505-9c30-ad72e4830502",
   "metadata": {},
   "outputs": [],
   "source": []
  }
 ],
 "metadata": {
  "kernelspec": {
   "display_name": "EDS220",
   "language": "python",
   "name": "eds220-env"
  },
  "language_info": {
   "codemirror_mode": {
    "name": "ipython",
    "version": 3
   },
   "file_extension": ".py",
   "mimetype": "text/x-python",
   "name": "python",
   "nbconvert_exporter": "python",
   "pygments_lexer": "ipython3",
   "version": "3.11.4"
  }
 },
 "nbformat": 4,
 "nbformat_minor": 5
}
