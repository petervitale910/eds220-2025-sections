{
 "cells": [
  {
   "cell_type": "markdown",
   "id": "f4caa762-74f9-48af-92bd-5b5d82e93ddc",
   "metadata": {},
   "source": [
    "## Section 3: Snowshoe hares at Bonanza Creek Experimental Forest"
   ]
  },
  {
   "cell_type": "markdown",
   "id": "83af4cce-7128-42ce-84f1-d3bb512f6c85",
   "metadata": {},
   "source": [
    "### About the data.\n",
    "These data were taken between 1999-2012 and look at Snowshoe hares at Bonanza Creek. There seem to be a lot of na's in the time variable as well as right and left ear tags. Most of the data is stored as strings, including Date. The researchers noted a decline in numbers after. \n",
    "\n",
    "#### Reference\n"
   ]
  }
 ],
 "metadata": {
  "kernelspec": {
   "display_name": "EDS220",
   "language": "python",
   "name": "eds220-env"
  },
  "language_info": {
   "codemirror_mode": {
    "name": "ipython",
    "version": 3
   },
   "file_extension": ".py",
   "mimetype": "text/x-python",
   "name": "python",
   "nbconvert_exporter": "python",
   "pygments_lexer": "ipython3",
   "version": "3.11.4"
  }
 },
 "nbformat": 4,
 "nbformat_minor": 5
}
